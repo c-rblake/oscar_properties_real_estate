{
 "cells": [
  {
   "cell_type": "markdown",
   "metadata": {},
   "source": [
    "# Oscar Properties capital raise\n",
    "Oscar Properties used to be a high-flying builder riding on lower interestes rates and supply demand imbalance in Stockholm. <br> \n",
    "After the interest rate stopped going down and people could not roll over equity as easy into new construction the stockholm construction boom came to a halt. And with it several builders, like Oscar Properties.\n",
    "<br>\n",
    "The company has several legacy assets from that era that is now tries to shed to move into the 'safer' rental space. Mostly because of crushing debts on few prospects on construction rather than a strategical move in my estimaton.\n",
    "<br>\n",
    "Using Q3 rapport and subsequent releases I try to estimate wheter or not I would buy into the capital raise in December 2020. This is not a recomendation or advice. It is just how I worked through the problem. "
   ]
  },
  {
   "cell_type": "markdown",
   "metadata": {},
   "source": [
    "# Oscar Properties Balance Sheet with modifications since Q3\n",
    "I am setting everything to noncashflow in this company."
   ]
  },
  {
   "cell_type": "code",
   "execution_count": 120,
   "metadata": {},
   "outputs": [
    {
     "name": "stdout",
     "output_type": "stream",
     "text": [
      "balancesheet: 2214, equity: 790, debt: 1424\n"
     ]
    }
   ],
   "source": [
    "# Q3 numbers\n",
    "balancesheet = 2214\n",
    "equity = 790\n",
    "debt = balancesheet-equity\n",
    "print(f'balancesheet: {balancesheet}, equity: {equity}, debt: {debt}')   "
   ]
  },
  {
   "cell_type": "code",
   "execution_count": 121,
   "metadata": {},
   "outputs": [],
   "source": [
    "noncashflow = balancesheet"
   ]
  },
  {
   "cell_type": "code",
   "execution_count": 122,
   "metadata": {},
   "outputs": [
    {
     "data": {
      "text/plain": [
       "1839.0"
      ]
     },
     "execution_count": 122,
     "metadata": {},
     "output_type": "execute_result"
    }
   ],
   "source": [
    "# Projects\n",
    "\n",
    "# in construction\n",
    "norra_tornen = 200\n",
    "unite = 47\n",
    "to_be_liquidated = norra_tornen + unite\n",
    "total_build_pipeline = 679 \n",
    "# My estimation of the reduced balance sheet from construction\n",
    "\n",
    "# other Risky projects\n",
    "primus = 0.5*920 # in 2014, jv with starwood\n",
    "kraus = 20 * 0.5 # potential build\n",
    "bakaxel = 250 # purchsed 2016, 5000 sqm to school potential 8000sqm build\n",
    "skurusundet=80     # 170 miljon buy price. Think it is worth about 80\n",
    "nacka_other = 360\n",
    "\n",
    "project_values = primus+kraus+bakaxel+skurusundet+nacka_other\n",
    "estimated_balance_sheet = project_values+total_build_pipeline\n",
    "estimated_balance_sheet"
   ]
  },
  {
   "cell_type": "code",
   "execution_count": 124,
   "metadata": {},
   "outputs": [
    {
     "name": "stdout",
     "output_type": "stream",
     "text": [
      "my estimated net book value is : -375.0 million at Q3\n"
     ]
    }
   ],
   "source": [
    "estimated_book_value = estimated_balance_sheet - balancesheet\n",
    "print(f'my estimated net book value is : {estimated_book_value} million at Q3')"
   ]
  },
  {
   "cell_type": "code",
   "execution_count": 125,
   "metadata": {},
   "outputs": [
    {
     "data": {
      "text/plain": [
       "-375.0"
      ]
     },
     "execution_count": 125,
     "metadata": {},
     "output_type": "execute_result"
    }
   ],
   "source": [
    "#Balance sheet\n",
    "risky_project_values = estimated_book_value\n",
    "risky_project_values # this is like an impairment"
   ]
  },
  {
   "cell_type": "code",
   "execution_count": 126,
   "metadata": {},
   "outputs": [
    {
     "data": {
      "text/plain": [
       "415.0"
      ]
     },
     "execution_count": 126,
     "metadata": {},
     "output_type": "execute_result"
    }
   ],
   "source": [
    "estimated_equity = equity + risky_project_values\n",
    "estimated_equity # book equity is 790"
   ]
  },
  {
   "cell_type": "code",
   "execution_count": 127,
   "metadata": {},
   "outputs": [
    {
     "data": {
      "text/plain": [
       "1535"
      ]
     },
     "execution_count": 127,
     "metadata": {},
     "output_type": "execute_result"
    }
   ],
   "source": [
    "# Adjusted risky balance sheet\n",
    "risky_balance_sheet = balancesheet - total_build_pipeline\n",
    "risky_balance_sheet"
   ]
  },
  {
   "cell_type": "markdown",
   "metadata": {},
   "source": [
    "# Subsequent Q3 Events\n",
    "Capital Raise and selling nacka_other and buying Valreum. <rb>\n",
    "Here I am splitting the Balance sheet to risky and less risky(rentals)."
   ]
  },
  {
   "cell_type": "code",
   "execution_count": 129,
   "metadata": {},
   "outputs": [
    {
     "name": "stdout",
     "output_type": "stream",
     "text": [
      "risky balance sheet is: 815, less risky balance sheet is 1400.\n"
     ]
    }
   ],
   "source": [
    "risky_balance_sheet -= nacka_other\n",
    "capital_raise = 325\n",
    "estimated_equity += capital_raise\n",
    "potential_option = 20 #240 \n",
    "\n",
    "valerum = 1400\n",
    "valerum_debt = 710\n",
    "noi = 80\n",
    "\n",
    "less_risky_balance_sheet = valerum\n",
    "\n",
    "print(f'risky balance sheet is: {risky_balance_sheet}, less risky balance sheet is {less_risky_balance_sheet}.')"
   ]
  },
  {
   "cell_type": "code",
   "execution_count": 111,
   "metadata": {},
   "outputs": [
    {
     "data": {
      "text/plain": [
       "1123"
      ]
     },
     "execution_count": 111,
     "metadata": {},
     "output_type": "execute_result"
    }
   ],
   "source": [
    "# Debt repurchase 18 million discounted 52 miljo nominal\n",
    "estimated_equity -= 18\n",
    "risky_balance_sheet -=52\n",
    "risky_balance_sheet"
   ]
  },
  {
   "cell_type": "code",
   "execution_count": 112,
   "metadata": {},
   "outputs": [],
   "source": [
    "# Moving Bakaxeln to less risky as it is to be rented to a school\n",
    "# Probably it will have little to neglible noi ill put it to 2 million noi\n",
    "risky_balance_sheet -= bakaxel\n",
    "less_risky_balance_sheet += bakaxel\n",
    "noi += 2"
   ]
  },
  {
   "cell_type": "code",
   "execution_count": 113,
   "metadata": {},
   "outputs": [
    {
     "data": {
      "text/plain": [
       "(873, 1650)"
      ]
     },
     "execution_count": 113,
     "metadata": {},
     "output_type": "execute_result"
    }
   ],
   "source": [
    "risky_balance_sheet, less_risky_balance_sheet"
   ]
  },
  {
   "cell_type": "code",
   "execution_count": 114,
   "metadata": {},
   "outputs": [
    {
     "data": {
      "text/plain": [
       "570.0"
      ]
     },
     "execution_count": 114,
     "metadata": {},
     "output_type": "execute_result"
    }
   ],
   "source": [
    "remaining_projects = primus+kraus+skurusundet+potential_option\n",
    "remaining_projects"
   ]
  },
  {
   "cell_type": "code",
   "execution_count": 117,
   "metadata": {},
   "outputs": [],
   "source": [
    "# Purchase of North Sweden assets 110 million 20 million rental income\n",
    "less_risky_balance_sheet += 110\n",
    "noi += 20 * 0.45"
   ]
  },
  {
   "cell_type": "code",
   "execution_count": 118,
   "metadata": {},
   "outputs": [
    {
     "name": "stdout",
     "output_type": "stream",
     "text": [
      "100.0\n"
     ]
    }
   ],
   "source": [
    "print(noi)"
   ]
  },
  {
   "cell_type": "code",
   "execution_count": 119,
   "metadata": {},
   "outputs": [
    {
     "data": {
      "text/plain": [
       "(873, 1760)"
      ]
     },
     "execution_count": 119,
     "metadata": {},
     "output_type": "execute_result"
    }
   ],
   "source": [
    "risky_balance_sheet, less_risky_balance_sheet"
   ]
  },
  {
   "cell_type": "markdown",
   "metadata": {},
   "source": [
    "# Evaluation\n",
    "The Risk Profile of the Company will be A LOT LOWER. almost 1 billion moved post Q3 to less risky assets. <br> \n",
    "There is also a compelling both explicit option and implicit option on new construction in the Stockholm area.<br> \n",
    "There will also be some net operating income. Maybe enough to deal with debts, overhead and have some left over. <br>\n",
    "I have not looked at the transactions valreum or the smaller 110m to evaluate those prospects but I am thinking these are very low scalable items. That is spread out and little overhead synergies. <br>\n",
    "That said there are some international players that look for portfolios, however they mostly go one side, either residential or other commercial.<br>\n",
    "Will I put more money into Oscarp Properties? No. The rental portfolio is unclear to me. I could bet on Stockholm construction making it back. But that could be years. Last time we waited 40 years for a boom to take place again. <br>\n",
    "Is it undervalued on absolute terms? - probably not <br>\n",
    "Is it undervalued relative ? maybe a little, but just margin of error<br>"
   ]
  }
 ],
 "metadata": {
  "kernelspec": {
   "display_name": "Python 3",
   "language": "python",
   "name": "python3"
  },
  "language_info": {
   "codemirror_mode": {
    "name": "ipython",
    "version": 3
   },
   "file_extension": ".py",
   "mimetype": "text/x-python",
   "name": "python",
   "nbconvert_exporter": "python",
   "pygments_lexer": "ipython3",
   "version": "3.8.5"
  }
 },
 "nbformat": 4,
 "nbformat_minor": 4
}
